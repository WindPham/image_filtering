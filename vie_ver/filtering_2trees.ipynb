{
 "cells": [
  {
   "cell_type": "markdown",
   "id": "4112ad78-6dbb-498e-a312-b44dedd891fd",
   "metadata": {},
   "source": [
    "<h1>Ngẫu hứng chiều mưa</h1>"
   ]
  },
  {
   "cell_type": "markdown",
   "id": "ef838558-5ad3-4349-b116-60d63990e890",
   "metadata": {},
   "source": [
    "Tình cờ xem một video chỉnh sửa ảnh trên phây bốc riu, editor trong video đang lọc một cái cây ra khỏi khung trời của nó, giống như ảnh sau"
   ]
  },
  {
   "cell_type": "markdown",
   "id": "6a9dae87-7011-44d0-a6a8-c3bde67f74ce",
   "metadata": {},
   "source": [
    "<img src=\"471812.jpg\">"
   ]
  },
  {
   "cell_type": "markdown",
   "id": "1a1e1d3e-23e3-4bd6-8cdb-27cf3575f190",
   "metadata": {},
   "source": [
    "Biến thành ảnh như sau"
   ]
  },
  {
   "cell_type": "markdown",
   "id": "8c666766-f31b-4981-bfbb-c2fa65847f25",
   "metadata": {},
   "source": [
    "<img src=\"471812_filtered.jpg\">"
   ]
  },
  {
   "cell_type": "markdown",
   "id": "b78bb7e9-4882-40b3-9306-a4b8bb850f0d",
   "metadata": {},
   "source": [
    "Bài viết này sẽ trình bày ngắn ngọn các lọc 2 cái cây và bãi cỏ ra khỏi khung hình bằng thuật toán KMeans"
   ]
  },
  {
   "cell_type": "markdown",
   "id": "0892d15d-a01f-4fcf-8695-3ebc7f0a9c39",
   "metadata": {
    "tags": []
   },
   "source": [
    "Bắt đầu thì mình sẽ khai báo thư viện liên quan và đọc ảnh lên"
   ]
  },
  {
   "cell_type": "code",
   "execution_count": 1,
   "id": "77e5ddcf-3c0a-4c9e-a6e9-6e136a23c189",
   "metadata": {},
   "outputs": [],
   "source": [
    "import numpy as np\n",
    "import pandas as pd\n",
    "import cv2"
   ]
  },
  {
   "cell_type": "code",
   "execution_count": 2,
   "id": "ddc895fb-c24b-44d5-b2fd-ebb11fe217dc",
   "metadata": {
    "tags": []
   },
   "outputs": [
    {
     "data": {
      "text/plain": [
       "-1"
      ]
     },
     "execution_count": 2,
     "metadata": {},
     "output_type": "execute_result"
    }
   ],
   "source": [
    "image = cv2.imread(\"blur/471812.jpg\")\n",
    "cv2.imshow(\"\", image)\n",
    "cv2.waitKey(0)"
   ]
  },
  {
   "cell_type": "markdown",
   "id": "e887ed8b-a1f3-49a8-bfb0-129f0bcb2cdc",
   "metadata": {},
   "source": [
    "Đã đọc ảnh xong rồi thì giờ mình chuyển ảnh ba chiều thành 2 chiều, gộp chiều dài và rộng lại, giữ nguyên phần kênh màu"
   ]
  },
  {
   "cell_type": "code",
   "execution_count": 3,
   "id": "03808a3e-cd3c-4b85-a9c8-b0758d23c50e",
   "metadata": {
    "tags": []
   },
   "outputs": [],
   "source": [
    "flattened_image = image.reshape(image.shape[0]*image.shape[1], 3)"
   ]
  },
  {
   "cell_type": "markdown",
   "id": "79299166-7272-48bc-9039-090b6df7a490",
   "metadata": {},
   "source": [
    "<i>image.shape[0] là chiều dài, image.shape[1] là chiều rộng, số 3 chính là kênh màu</i>"
   ]
  },
  {
   "cell_type": "markdown",
   "id": "0b4e49e9-569e-4b9f-87af-4183eb922c20",
   "metadata": {},
   "source": [
    "Khai báo KMeans, chọn số clusters là 3, vì nhìn vào hình theo cảm quan thì mình xác định có 3 nhóm màu chính là lục, lam và trắng\n",
    "\n",
    "Tiến hành luôn phần fit tấm ảnh\n",
    "\n",
    "**Lưu ý: Phần code chỉ dùng cho tấm ảnh trình bày ở đầu bài viết"
   ]
  },
  {
   "cell_type": "code",
   "execution_count": 4,
   "id": "c2428e3b-efd9-433a-ba4a-4722bd763000",
   "metadata": {
    "tags": []
   },
   "outputs": [],
   "source": [
    "from sklearn.cluster import KMeans"
   ]
  },
  {
   "cell_type": "code",
   "execution_count": 5,
   "id": "59cd4be4-312c-4ef5-ad4b-2fe0a46b0867",
   "metadata": {
    "tags": []
   },
   "outputs": [],
   "source": [
    "kmeans = KMeans(n_clusters=3, random_state=0, n_init=\"auto\").fit(flattened_image)"
   ]
  },
  {
   "cell_type": "markdown",
   "id": "2c35fba9-666e-45c8-9c47-9b0c846a6fa7",
   "metadata": {},
   "source": [
    "Lấy phần kết quả dự đoán từng cụm"
   ]
  },
  {
   "cell_type": "code",
   "execution_count": 6,
   "id": "1e423172-2914-4c1f-8074-696fcf1334ee",
   "metadata": {
    "tags": []
   },
   "outputs": [],
   "source": [
    "prediction = kmeans.predict(flattened_image)"
   ]
  },
  {
   "cell_type": "markdown",
   "id": "07e9bdff-28c5-4f2c-9e80-e7ad0304582b",
   "metadata": {},
   "source": [
    "Giải thuật KMeans có kết quả theo tọa độ 3 kênh màu và có số trung tâm tìm được bằng với số cụm (ở đây là 3 cụm). Kết quả có dạng số thập phân nên ở đây tiến hành làm tròn đưa về số tự nhiên."
   ]
  },
  {
   "cell_type": "code",
   "execution_count": 7,
   "id": "87fd48bf-1e88-4c61-87b0-799abfce3698",
   "metadata": {
    "tags": []
   },
   "outputs": [],
   "source": [
    "centers = kmeans.cluster_centers_.round()"
   ]
  },
  {
   "cell_type": "code",
   "execution_count": 8,
   "id": "77be3117-bc98-4998-82bc-13067d08b379",
   "metadata": {
    "tags": []
   },
   "outputs": [
    {
     "data": {
      "text/plain": [
       "array([[222., 118.,  17.],\n",
       "       [ 37., 133.,  66.],\n",
       "       [233., 211., 184.]])"
      ]
     },
     "execution_count": 8,
     "metadata": {},
     "output_type": "execute_result"
    }
   ],
   "source": [
    "centers"
   ]
  },
  {
   "cell_type": "code",
   "execution_count": null,
   "id": "01bd8e97-e52f-44ee-8dbe-479e195da423",
   "metadata": {},
   "outputs": [],
   "source": []
  },
  {
   "cell_type": "markdown",
   "id": "0524a91e-1b60-4a96-9191-ad4de99aa834",
   "metadata": {},
   "source": [
    "Tới đây, mình đặt ra một câu hỏi \"Gồi dờ biếc cụm nào là cái cây vdà bãi cỏ ?\", câu trả lời đơn giản là mình kiểm tra thủ công luôn :D , hơi quê mà chỉ có 3 cụm điểm nên làm tay cho gọn !!!"
   ]
  },
  {
   "cell_type": "markdown",
   "id": "01deac34-5b30-4154-83d0-357845efe4f0",
   "metadata": {},
   "source": [
    "Cách đơn giản là mình viết một cái hàm truyền vào một bộ 3 màu rồi hiển thị màu này lên là biết chọn cái centers nào liền !!!\n",
    "\n",
    "Còn về phần nội dung hàm thì phiền người đọc tự xem code ở dưới giúp Hào nhe :D"
   ]
  },
  {
   "cell_type": "code",
   "execution_count": 11,
   "id": "d5b88406-1a02-47a6-9728-2ae63ec55417",
   "metadata": {
    "tags": []
   },
   "outputs": [],
   "source": [
    "def check_color(colors):\n",
    "    import matplotlib.pyplot as plt\n",
    "    n = 16\n",
    "    def create_color_image(colors):\n",
    "        img = np.zeros((n*n,3));\n",
    "        img[:] = colors;\n",
    "        return img.reshape(n,n,3).astype(int);\n",
    "    img = create_color_image(colors);\n",
    "    plt.imshow(img)\n",
    "    plt.show()\n",
    "    return;"
   ]
  },
  {
   "cell_type": "code",
   "execution_count": 12,
   "id": "60523a2a-db1d-4efb-a77e-239f0f81490c",
   "metadata": {
    "tags": []
   },
   "outputs": [
    {
     "data": {
      "image/png": "[encoded data removed]",
      "text/plain": [
       "<Figure size 640x480 with 1 Axes>"
      ]
     },
     "metadata": {},
     "output_type": "display_data"
    }
   ],
   "source": [
    "check_color(centers[1])"
   ]
  },
  {
   "cell_type": "markdown",
   "id": "b1bd41ed-5c69-4522-9350-a7ac46bc1c3c",
   "metadata": {},
   "source": [
    "Chọn được màu lục là của center thứ 1"
   ]
  },
  {
   "cell_type": "markdown",
   "id": "496d3eeb-7bff-47c1-a581-742f3dfe3cb4",
   "metadata": {},
   "source": [
    "Mượn pandas để xử lý cho dễ phần đánh dấu điểm ảnh sẽ biến đổi"
   ]
  },
  {
   "cell_type": "code",
   "execution_count": 13,
   "id": "cd1d8878-61dd-424f-8ef8-61c3308ea210",
   "metadata": {
    "tags": []
   },
   "outputs": [],
   "source": [
    "df = pd.DataFrame(flattened_image, columns=['B', 'G', 'R'])"
   ]
  },
  {
   "cell_type": "markdown",
   "id": "ef5620c3-ccf4-45c9-be2a-819e393eee36",
   "metadata": {},
   "source": [
    "Đánh dấu bằng biến prediction đã tạo ở trên"
   ]
  },
  {
   "cell_type": "code",
   "execution_count": 14,
   "id": "77faf7ec-a253-4fda-b243-56c46c77360f",
   "metadata": {
    "tags": []
   },
   "outputs": [],
   "source": [
    "df['cluster']=prediction"
   ]
  },
  {
   "cell_type": "markdown",
   "id": "2741274f-c621-4606-9a4e-820d346734c3",
   "metadata": {},
   "source": [
    "Nếu là cụm 1 thì để nguyên, còn lại thì đưa về màu trắng hết !!! Tức là 255, 255, 255"
   ]
  },
  {
   "cell_type": "code",
   "execution_count": 15,
   "id": "7c6b399d-0196-4fe7-941a-40be09ad4904",
   "metadata": {
    "tags": []
   },
   "outputs": [],
   "source": [
    "df.loc[df.cluster!=1, ['B', 'G', 'R']] = [255, 255, 255]"
   ]
  },
  {
   "cell_type": "markdown",
   "id": "00552e01-b125-478b-85c3-71d2c47e3ffe",
   "metadata": {},
   "source": [
    "Giờ là lúc gặt hái thành quả sau khi biến đổi lòng vòng nảy giờ"
   ]
  },
  {
   "cell_type": "code",
   "execution_count": 18,
   "id": "6bb44dea-1d7e-403d-9f48-b0a3f8bb4d17",
   "metadata": {
    "tags": []
   },
   "outputs": [],
   "source": [
    "flattened_image = df[['B', 'G', 'R']].values.reshape(image.shape)"
   ]
  },
  {
   "cell_type": "code",
   "execution_count": 19,
   "id": "0d719909-ea1e-4edd-bfab-058212affbb7",
   "metadata": {
    "tags": []
   },
   "outputs": [
    {
     "data": {
      "text/plain": [
       "-1"
      ]
     },
     "execution_count": 19,
     "metadata": {},
     "output_type": "execute_result"
    }
   ],
   "source": [
    "cv2.imshow(\"\", flattened_image)\n",
    "cv2.waitKey(0)"
   ]
  },
  {
   "cell_type": "markdown",
   "id": "a1b6ddc4-1175-4fc5-9677-865430ec4244",
   "metadata": {},
   "source": [
    "Cảm ơn độc giả đã xem !!!"
   ]
  },
  {
   "cell_type": "markdown",
   "id": "157bd4dc-a9b2-4e04-9b4f-e11586932051",
   "metadata": {},
   "source": [
    "Sài Gòn - Thủ Đức, chiều mưa bụng đói cồn cào !!!"
   ]
  },
  {
   "cell_type": "code",
   "execution_count": null,
   "id": "e8e5215c-b7d2-4465-bbf7-91fc1182ec68",
   "metadata": {},
   "outputs": [],
   "source": []
  }
 ],
 "metadata": {
  "kernelspec": {
   "display_name": "python39",
   "language": "python",
   "name": "python39"
  },
  "language_info": {
   "codemirror_mode": {
    "name": "ipython",
    "version": 3
   },
   "file_extension": ".py",
   "mimetype": "text/x-python",
   "name": "python",
   "nbconvert_exporter": "python",
   "pygments_lexer": "ipython3",
   "version": "3.11.5"
  }
 },
 "nbformat": 4,
 "nbformat_minor": 5
}
