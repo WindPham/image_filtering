{
 "cells": [
  {
   "cell_type": "markdown",
   "id": "4112ad78-6dbb-498e-a312-b44dedd891fd",
   "metadata": {},
   "source": [
    "<h1>Rainy afternoon improvisation</h1>"
   ]
  },
  {
   "cell_type": "markdown",
   "id": "3fbac752-b841-4dcd-841d-83a4d737cd40",
   "metadata": {},
   "source": [
    "I watched an editing image video. The editor in the video was filtering a tree out of the sky background. It likes the following image:"
   ]
  },
  {
   "cell_type": "markdown",
   "id": "6a9dae87-7011-44d0-a6a8-c3bde67f74ce",
   "metadata": {},
   "source": [
    "<img src=\"471812.jpg\"/>"
   ]
  },
  {
   "cell_type": "markdown",
   "id": "1a1e1d3e-23e3-4bd6-8cdb-27cf3575f190",
   "metadata": {},
   "source": [
    "The resulting image is"
   ]
  },
  {
   "cell_type": "markdown",
   "id": "8c666766-f31b-4981-bfbb-c2fa65847f25",
   "metadata": {},
   "source": [
    "<img src=\"471812_filtered.jpg\"/>"
   ]
  },
  {
   "cell_type": "markdown",
   "id": "ec494cf5-548f-4d4b-9287-4e243c99a461",
   "metadata": {},
   "source": [
    "This notebook will present a short way to filter two trees and green grass out of the sky background using the K-Means algorithm."
   ]
  },
  {
   "cell_type": "markdown",
   "id": "32b5dd47-948b-471b-86e1-d14a01ecacd5",
   "metadata": {},
   "source": [
    "Firstly, I initialize libraries and read an image"
   ]
  },
  {
   "cell_type": "code",
   "execution_count": 1,
   "id": "77e5ddcf-3c0a-4c9e-a6e9-6e136a23c189",
   "metadata": {},
   "outputs": [],
   "source": [
    "import numpy as np\n",
    "import pandas as pd\n",
    "import cv2"
   ]
  },
  {
   "cell_type": "code",
   "execution_count": null,
   "id": "ddc895fb-c24b-44d5-b2fd-ebb11fe217dc",
   "metadata": {
    "tags": []
   },
   "outputs": [],
   "source": [
    "image = cv2.imread(\"471812.jpg\")\n",
    "cv2.imshow(\"\", image)\n",
    "cv2.waitKey(0)"
   ]
  },
  {
   "cell_type": "markdown",
   "id": "e887ed8b-a1f3-49a8-bfb0-129f0bcb2cdc",
   "metadata": {},
   "source": [
    "Đã đọc ảnh xong rồi thì giờ mình chuyển ảnh ba chiều thành 2 chiều, gộp chiều dài và rộng lại, giữ nguyên phần kênh màu"
   ]
  },
  {
   "cell_type": "code",
   "execution_count": 3,
   "id": "03808a3e-cd3c-4b85-a9c8-b0758d23c50e",
   "metadata": {
    "tags": []
   },
   "outputs": [],
   "source": [
    "flattened_image = image.reshape(image.shape[0]*image.shape[1], 3)"
   ]
  },
  {
   "cell_type": "markdown",
   "id": "79299166-7272-48bc-9039-090b6df7a490",
   "metadata": {},
   "source": [
    "<i>image.shape[0] is height, image.shape[1] is width, \"3\" is RGB-color channel</i>"
   ]
  },
  {
   "cell_type": "markdown",
   "id": "84daf039-f11a-4c61-9b10-7d286f8e5667",
   "metadata": {},
   "source": [
    "Secondly, I initialize the K-Means model with 3 clusters to represent the three color groups: green, blue, and white. The green color group includes two trees and grass.\n",
    "\n",
    "Next, I fit the flattened image\n",
    "\n",
    "<b><i>**Note: This code is intended for use with the presented image only.</i></b>"
   ]
  },
  {
   "cell_type": "code",
   "execution_count": 4,
   "id": "c2428e3b-efd9-433a-ba4a-4722bd763000",
   "metadata": {
    "tags": []
   },
   "outputs": [],
   "source": [
    "from sklearn.cluster import KMeans"
   ]
  },
  {
   "cell_type": "code",
   "execution_count": 5,
   "id": "59cd4be4-312c-4ef5-ad4b-2fe0a46b0867",
   "metadata": {
    "tags": []
   },
   "outputs": [],
   "source": [
    "kmeans = KMeans(n_clusters=3, random_state=0, n_init=\"auto\").fit(flattened_image)"
   ]
  },
  {
   "cell_type": "markdown",
   "id": "2c35fba9-666e-45c8-9c47-9b0c846a6fa7",
   "metadata": {},
   "source": [
    "Next, I assign each pixel to a cluster based on the K-Means model's predictions."
   ]
  },
  {
   "cell_type": "code",
   "execution_count": 6,
   "id": "1e423172-2914-4c1f-8074-696fcf1334ee",
   "metadata": {
    "tags": []
   },
   "outputs": [],
   "source": [
    "prediction = kmeans.predict(flattened_image)"
   ]
  },
  {
   "cell_type": "markdown",
   "id": "07e9bdff-28c5-4f2c-9e80-e7ad0304582b",
   "metadata": {},
   "source": [
    "Next, I round the centers"
   ]
  },
  {
   "cell_type": "code",
   "execution_count": 7,
   "id": "87fd48bf-1e88-4c61-87b0-799abfce3698",
   "metadata": {
    "tags": []
   },
   "outputs": [],
   "source": [
    "centers = kmeans.cluster_centers_.round()"
   ]
  },
  {
   "cell_type": "code",
   "execution_count": 8,
   "id": "77be3117-bc98-4998-82bc-13067d08b379",
   "metadata": {
    "tags": []
   },
   "outputs": [
    {
     "data": {
      "text/plain": [
       "array([[222., 118.,  17.],\n",
       "       [ 37., 133.,  66.],\n",
       "       [233., 211., 184.]])"
      ]
     },
     "execution_count": 8,
     "metadata": {},
     "output_type": "execute_result"
    }
   ],
   "source": [
    "centers"
   ]
  },
  {
   "cell_type": "markdown",
   "id": "7467b7cf-22a7-44be-a0c9-0b2674b0b8be",
   "metadata": {},
   "source": [
    "In this step, I'm curious to determine which cluster includes the two trees and the grass. I opted for a manual check since writing a function for this task seems too complex for now. 😅\n",
    "\n",
    "The checked result is green"
   ]
  },
  {
   "cell_type": "markdown",
   "id": "a2f1b5c7-181d-467c-818d-6f3596ef724b",
   "metadata": {},
   "source": [
    "In the next step, I need to determine which center is green. I write a function to show the center's color."
   ]
  },
  {
   "cell_type": "markdown",
   "id": "b03c75f2-50e2-42ef-8d48-c550e6d34b2b",
   "metadata": {},
   "source": [
    "Please view and understand this code yourself."
   ]
  },
  {
   "cell_type": "code",
   "execution_count": 11,
   "id": "d5b88406-1a02-47a6-9728-2ae63ec55417",
   "metadata": {
    "tags": []
   },
   "outputs": [],
   "source": [
    "def check_color(colors):\n",
    "    import matplotlib.pyplot as plt\n",
    "    n = 16\n",
    "    def create_color_image(colors):\n",
    "        img = np.zeros((n*n,3));\n",
    "        img[:] = colors;\n",
    "        return img.reshape(n,n,3).astype(int);\n",
    "    img = create_color_image(colors);\n",
    "    plt.imshow(img)\n",
    "    plt.show()\n",
    "    return;"
   ]
  },
  {
   "cell_type": "code",
   "execution_count": 12,
   "id": "60523a2a-db1d-4efb-a77e-239f0f81490c",
   "metadata": {
    "tags": []
   },
   "outputs": [
    {
     "data": {
      "image/png": "[encoded data removed]",
      "text/plain": [
       "<Figure size 640x480 with 1 Axes>"
      ]
     },
     "metadata": {},
     "output_type": "display_data"
    }
   ],
   "source": [
    "check_color(centers[1])"
   ]
  },
  {
   "cell_type": "markdown",
   "id": "b1bd41ed-5c69-4522-9350-a7ac46bc1c3c",
   "metadata": {},
   "source": [
    "The green center is the 1st one"
   ]
  },
  {
   "cell_type": "markdown",
   "id": "f6eb4f54-2789-484c-a302-8628ed2cf1cd",
   "metadata": {},
   "source": [
    "I use Pandas for data processing"
   ]
  },
  {
   "cell_type": "code",
   "execution_count": 13,
   "id": "cd1d8878-61dd-424f-8ef8-61c3308ea210",
   "metadata": {
    "tags": []
   },
   "outputs": [],
   "source": [
    "df = pd.DataFrame(flattened_image, columns=['B', 'G', 'R'])"
   ]
  },
  {
   "cell_type": "markdown",
   "id": "ef5620c3-ccf4-45c9-be2a-819e393eee36",
   "metadata": {},
   "source": [
    "Add 'cluster' column by the 'prediction' variable for dataframe"
   ]
  },
  {
   "cell_type": "code",
   "execution_count": 14,
   "id": "77faf7ec-a253-4fda-b243-56c46c77360f",
   "metadata": {
    "tags": []
   },
   "outputs": [],
   "source": [
    "df['cluster']=prediction"
   ]
  },
  {
   "cell_type": "markdown",
   "id": "2741274f-c621-4606-9a4e-820d346734c3",
   "metadata": {},
   "source": [
    "Set tuple (255,255,255) for the 0th and 2nd cluster"
   ]
  },
  {
   "cell_type": "code",
   "execution_count": 15,
   "id": "7c6b399d-0196-4fe7-941a-40be09ad4904",
   "metadata": {
    "tags": []
   },
   "outputs": [],
   "source": [
    "df.loc[df.cluster!=1, ['B', 'G', 'R']] = [255, 255, 255]"
   ]
  },
  {
   "cell_type": "markdown",
   "id": "00552e01-b125-478b-85c3-71d2c47e3ffe",
   "metadata": {},
   "source": [
    "The flattenedly resulted image is:"
   ]
  },
  {
   "cell_type": "code",
   "execution_count": 18,
   "id": "6bb44dea-1d7e-403d-9f48-b0a3f8bb4d17",
   "metadata": {
    "tags": []
   },
   "outputs": [],
   "source": [
    "resulted_image = df[['B', 'G', 'R']].values.reshape(image.shape)"
   ]
  },
  {
   "cell_type": "code",
   "execution_count": 19,
   "id": "0d719909-ea1e-4edd-bfab-058212affbb7",
   "metadata": {
    "tags": []
   },
   "outputs": [
    {
     "data": {
      "text/plain": [
       "-1"
      ]
     },
     "execution_count": 19,
     "metadata": {},
     "output_type": "execute_result"
    }
   ],
   "source": [
    "cv2.imshow(\"\", resulted_image)\n",
    "cv2.waitKey(0)"
   ]
  },
  {
   "cell_type": "markdown",
   "id": "762c8a48-ba78-469d-a73b-82a33f2c13d2",
   "metadata": {},
   "source": [
    "<b>Question: Why does the color of the resulting image differ from the color of the two trees and the grass in the given image?</b>"
   ]
  },
  {
   "cell_type": "markdown",
   "id": "a1b6ddc4-1175-4fc5-9677-865430ec4244",
   "metadata": {},
   "source": [
    "Thank you for reading !!!"
   ]
  },
  {
   "cell_type": "markdown",
   "id": "157bd4dc-a9b2-4e04-9b4f-e11586932051",
   "metadata": {},
   "source": [
    "Saigon - Thu Duc, rainy afternoon, my stomach growling with hunger!!! :D"
   ]
  }
 ],
 "metadata": {
  "kernelspec": {
   "display_name": "python39",
   "language": "python",
   "name": "python39"
  },
  "language_info": {
   "codemirror_mode": {
    "name": "ipython",
    "version": 3
   },
   "file_extension": ".py",
   "mimetype": "text/x-python",
   "name": "python",
   "nbconvert_exporter": "python",
   "pygments_lexer": "ipython3",
   "version": "3.11.5"
  }
 },
 "nbformat": 4,
 "nbformat_minor": 5
}
